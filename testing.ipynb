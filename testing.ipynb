{
 "cells": [
  {
   "cell_type": "code",
   "execution_count": 1,
   "metadata": {},
   "outputs": [],
   "source": [
    "import pandas as pd"
   ]
  },
  {
   "cell_type": "code",
   "execution_count": 3,
   "metadata": {},
   "outputs": [],
   "source": [
    "df = pd.read_csv('logs.csv')"
   ]
  },
  {
   "cell_type": "code",
   "execution_count": 10,
   "metadata": {},
   "outputs": [
    {
     "name": "stdout",
     "output_type": "stream",
     "text": [
      "Decoded image saved to decoded_image.png\n"
     ]
    }
   ],
   "source": [
    "from PIL import Image\n",
    "\n",
    "def decode_image(image_path, output_path, num_cycles=48, multiplier=48):\n",
    "    # Load the image and convert it to RGB\n",
    "    image = Image.open(image_path)\n",
    "    width, height = image.size\n",
    "    pixels = list(image.getdata())\n",
    "    num_pixels = width * height\n",
    "\n",
    "    # Perform the decryption by reversing the scrambling\n",
    "    for cycle in range(num_cycles):\n",
    "        # We go in reverse order of positions to undo the obfuscation\n",
    "        for i in range(num_pixels - 1, -1, -1):\n",
    "            target_index = (i * multiplier) % num_pixels\n",
    "            # Swap the pixel at index `i` with the one at `target_index`\n",
    "            pixels[i], pixels[target_index] = pixels[target_index], pixels[i]\n",
    "\n",
    "    # Save the unscrambled image\n",
    "    decoded_image = Image.new(image.mode, (width, height))\n",
    "    decoded_image.putdata(pixels)\n",
    "    decoded_image.save(output_path)\n",
    "    print(f\"Decoded image saved to {output_path}\")\n",
    "\n",
    "# Example usage:\n",
    "decode_image('moose.png', 'decoded_image.png')\n"
   ]
  }
 ],
 "metadata": {
  "kernelspec": {
   "display_name": "technica2024",
   "language": "python",
   "name": "python3"
  },
  "language_info": {
   "codemirror_mode": {
    "name": "ipython",
    "version": 3
   },
   "file_extension": ".py",
   "mimetype": "text/x-python",
   "name": "python",
   "nbconvert_exporter": "python",
   "pygments_lexer": "ipython3",
   "version": "3.11.10"
  }
 },
 "nbformat": 4,
 "nbformat_minor": 2
}
